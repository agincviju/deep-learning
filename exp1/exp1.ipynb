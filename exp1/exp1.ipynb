{
 "cells": [
  {
   "cell_type": "markdown",
   "id": "528cee94",
   "metadata": {},
   "source": [
    "Q1.Create a vector, scalar, matrix and tensor with values of your choice using tf.constant()."
   ]
  },
  {
   "cell_type": "code",
   "execution_count": 4,
   "id": "cdfdbf39",
   "metadata": {},
   "outputs": [
    {
     "name": "stdout",
     "output_type": "stream",
     "text": [
      "tf.Tensor(5, shape=(), dtype=int32)\n",
      "tf.Tensor([1 2 3], shape=(3,), dtype=int32)\n",
      "tf.Tensor(\n",
      "[[1 2]\n",
      " [3 4]], shape=(2, 2), dtype=int32)\n",
      "tf.Tensor(\n",
      "[[[1 2]\n",
      "  [3 4]]\n",
      "\n",
      " [[5 6]\n",
      "  [7 8]]], shape=(2, 2, 2), dtype=int32)\n"
     ]
    }
   ],
   "source": [
    "scalar = tf.constant(5)\n",
    "print(scalar)\n",
    "vector = tf.constant([1, 2, 3])\n",
    "print(vector)\n",
    "matrix = tf.constant([[1, 2], [3, 4]])\n",
    "print(matrix)\n",
    "tensor = tf.constant([[[1, 2], [3, 4]], [[5, 6], [7, 8]]])\n",
    "print(tensor)\n"
   ]
  },
  {
   "cell_type": "markdown",
   "id": "7e5903a6",
   "metadata": {},
   "source": [
    "Q2.Find the shape, rank and size of the tensors (which you created for Q1)."
   ]
  },
  {
   "cell_type": "code",
   "execution_count": 5,
   "id": "7690676e",
   "metadata": {},
   "outputs": [
    {
     "name": "stdout",
     "output_type": "stream",
     "text": [
      "Scalar:\n",
      "  Value: 5\n",
      "  Shape: ()\n",
      "  Rank: 0\n",
      "  Size: 1\n",
      "\n",
      "Vector:\n",
      "  Value: [1 2 3]\n",
      "  Shape: (3,)\n",
      "  Rank: 1\n",
      "  Size: 3\n",
      "\n",
      "Matrix:\n",
      "  Value: [[1 2]\n",
      " [3 4]]\n",
      "  Shape: (2, 2)\n",
      "  Rank: 2\n",
      "  Size: 4\n",
      "\n",
      "Tensor:\n",
      "  Value: [[[1 2]\n",
      "  [3 4]]\n",
      "\n",
      " [[5 6]\n",
      "  [7 8]]]\n",
      "  Shape: (2, 2, 2)\n",
      "  Rank: 3\n",
      "  Size: 8\n"
     ]
    }
   ],
   "source": [
    "\n",
    "# Scalar \n",
    "print(\"Scalar:\")\n",
    "print(f\"  Value: {scalar.numpy()}\")\n",
    "print(f\"  Shape: {scalar.shape}\")\n",
    "print(f\"  Rank: {tf.rank(scalar).numpy()}\")\n",
    "print(f\"  Size: {tf.size(scalar).numpy()}\")\n",
    "\n",
    "# Vector \n",
    "print(\"\\nVector:\")\n",
    "print(f\"  Value: {vector.numpy()}\")\n",
    "print(f\"  Shape: {vector.shape}\")\n",
    "print(f\"  Rank: {tf.rank(vector).numpy()}\")\n",
    "print(f\"  Size: {tf.size(vector).numpy()}\")\n",
    "\n",
    "# Matrix \n",
    "print(\"\\nMatrix:\")\n",
    "print(f\"  Value: {matrix.numpy()}\")\n",
    "print(f\"  Shape: {matrix.shape}\")\n",
    "print(f\"  Rank: {tf.rank(matrix).numpy()}\")\n",
    "print(f\"  Size: {tf.size(matrix).numpy()}\")\n",
    "\n",
    "# Tensor \n",
    "print(\"\\nTensor:\")\n",
    "print(f\"  Value: {tensor.numpy()}\")\n",
    "print(f\"  Shape: {tensor.shape}\")\n",
    "print(f\"  Rank: {tf.rank(tensor).numpy()}\")\n",
    "print(f\"  Size: {tf.size(tensor).numpy()}\")"
   ]
  },
  {
   "cell_type": "markdown",
   "id": "e8e239cf",
   "metadata": {},
   "source": [
    "Q3.Create two tensors containing random values between 0 and 1 with  \n",
    "shape [5, 300]."
   ]
  },
  {
   "cell_type": "code",
   "execution_count": 9,
   "id": "405d458c",
   "metadata": {},
   "outputs": [
    {
     "name": "stdout",
     "output_type": "stream",
     "text": [
      "Tensor A shape: (5, 300)\n",
      "Tensor B shape: (5, 300)\n"
     ]
    }
   ],
   "source": [
    "tensor_a = tf.random.uniform(shape=(5, 300), minval=0, maxval=1, dtype=tf.float32)\n",
    "tensor_b = tf.random.uniform(shape=(5, 300), minval=0, maxval=1, dtype=tf.float32)\n",
    "\n",
    "print(\"Tensor A shape:\", tensor_a.shape)\n",
    "print(\"Tensor B shape:\", tensor_b.shape)\n"
   ]
  },
  {
   "cell_type": "markdown",
   "id": "203cc3b3",
   "metadata": {},
   "source": [
    "Q4.Multiply the two tensors (which you created for Question 3) using matrix  \n",
    "multiplication. "
   ]
  },
  {
   "cell_type": "code",
   "execution_count": 10,
   "id": "b7408f2e",
   "metadata": {},
   "outputs": [
    {
     "name": "stdout",
     "output_type": "stream",
     "text": [
      "\n",
      "Matrix multiplication result shape: (5, 5)\n"
     ]
    }
   ],
   "source": [
    "matmul_result = tf.matmul(tensor_a, tensor_b, transpose_b=True)  # (5,300) x (300,5) -> (5,5)\n",
    "print(\"\\nMatrix multiplication result shape:\", matmul_result.shape)"
   ]
  },
  {
   "cell_type": "markdown",
   "id": "c8ce7ebf",
   "metadata": {},
   "source": [
    "Q5.Multiply the two tensors (which you created for Question 3) using dot product."
   ]
  },
  {
   "cell_type": "code",
   "execution_count": 11,
   "id": "b20d0534",
   "metadata": {},
   "outputs": [
    {
     "name": "stdout",
     "output_type": "stream",
     "text": [
      "\n",
      "Dot product result shape: (5,)\n"
     ]
    }
   ],
   "source": [
    "dot_product = tf.reduce_sum(tensor_a * tensor_b, axis=1)  # sum along inner dim (300)\n",
    "print(\"\\nDot product result shape:\", dot_product.shape)"
   ]
  },
  {
   "cell_type": "markdown",
   "id": "85be0c6e",
   "metadata": {},
   "source": [
    "Q6.Create a tensor with random values between 0 and 1 with shape [224, 224,3]. "
   ]
  },
  {
   "cell_type": "code",
   "execution_count": 12,
   "id": "1ca26654",
   "metadata": {},
   "outputs": [
    {
     "name": "stdout",
     "output_type": "stream",
     "text": [
      "\n",
      "Image tensor shape: (224, 224, 3)\n"
     ]
    }
   ],
   "source": [
    "image_tensor = tf.random.uniform(shape=[224, 224, 3], minval=0, maxval=1, dtype=tf.float32)\n",
    "print(\"\\nImage tensor shape:\", image_tensor.shape)\n"
   ]
  },
  {
   "cell_type": "markdown",
   "id": "cc7eaba7",
   "metadata": {},
   "source": [
    "Q7.Find the min and max values of the tensor (which you created for Question 6)  "
   ]
  },
  {
   "cell_type": "code",
   "execution_count": 13,
   "id": "b203e03f",
   "metadata": {},
   "outputs": [
    {
     "name": "stdout",
     "output_type": "stream",
     "text": [
      "Minimum value in the image tensor: 2.861023e-06\n",
      "Maximum value in the image tensor: 0.9999951\n"
     ]
    }
   ],
   "source": [
    "min_val = tf.reduce_min(image_tensor)\n",
    "max_val = tf.reduce_max(image_tensor)\n",
    "print(\"Minimum value in the image tensor:\", min_val.numpy())\n",
    "print(\"Maximum value in the image tensor:\", max_val.numpy())"
   ]
  },
  {
   "cell_type": "markdown",
   "id": "46e59d05",
   "metadata": {},
   "source": [
    "Q8.Created a tensor with random values of shape [1, 224, 224, 3] then squeeze it to change the shape to [224, 224, 3]. "
   ]
  },
  {
   "cell_type": "code",
   "execution_count": 14,
   "id": "a78c8bde",
   "metadata": {},
   "outputs": [
    {
     "name": "stdout",
     "output_type": "stream",
     "text": [
      "Original shape: (1, 224, 224, 3)\n",
      "Squeezed shape: (224, 224, 3)\n"
     ]
    }
   ],
   "source": [
    "batch_tensor = tf.random.uniform(shape=[1, 224, 224, 3], minval=0, maxval=1, dtype=tf.float32)\n",
    "print(\"Original shape:\", batch_tensor.shape)\n",
    "squeezed_tensor = tf.squeeze(batch_tensor)\n",
    "print(\"Squeezed shape:\", squeezed_tensor.shape)\n"
   ]
  },
  {
   "cell_type": "markdown",
   "id": "3a9b08fe",
   "metadata": {},
   "source": [
    "Q9.Create a tensor with shape [10] using your own choice of values, then find the index which has the maximum value.  "
   ]
  },
  {
   "cell_type": "code",
   "execution_count": 16,
   "id": "fefff424",
   "metadata": {},
   "outputs": [
    {
     "name": "stdout",
     "output_type": "stream",
     "text": [
      "Tensor: [ 3 17  5  9 12  7 20  4  8  1]\n",
      "Index of maximum value: 6\n",
      "Maximum value: 20\n"
     ]
    }
   ],
   "source": [
    "tensor = tf.constant([3, 17, 5, 9, 12, 7, 20, 4, 8, 1])\n",
    "print(\"Tensor:\", tensor.numpy())\n",
    "max_index = tf.argmax(tensor).numpy()\n",
    "print(\"Index of maximum value:\", max_index)\n",
    "print(\"Maximum value:\", tensor[max_index].numpy())"
   ]
  },
  {
   "cell_type": "markdown",
   "id": "16ab083a",
   "metadata": {},
   "source": [
    "Q10.One-hot encode the tensor you created in 9."
   ]
  },
  {
   "cell_type": "code",
   "execution_count": 17,
   "id": "6312f97d",
   "metadata": {},
   "outputs": [
    {
     "name": "stdout",
     "output_type": "stream",
     "text": [
      "One-hot encoded shape: (10, 21)\n",
      "One-hot encoded tensor:\n",
      " [[0. 0. 0. 1. 0. 0. 0. 0. 0. 0. 0. 0. 0. 0. 0. 0. 0. 0. 0. 0. 0.]\n",
      " [0. 0. 0. 0. 0. 0. 0. 0. 0. 0. 0. 0. 0. 0. 0. 0. 0. 1. 0. 0. 0.]\n",
      " [0. 0. 0. 0. 0. 1. 0. 0. 0. 0. 0. 0. 0. 0. 0. 0. 0. 0. 0. 0. 0.]\n",
      " [0. 0. 0. 0. 0. 0. 0. 0. 0. 1. 0. 0. 0. 0. 0. 0. 0. 0. 0. 0. 0.]\n",
      " [0. 0. 0. 0. 0. 0. 0. 0. 0. 0. 0. 0. 1. 0. 0. 0. 0. 0. 0. 0. 0.]\n",
      " [0. 0. 0. 0. 0. 0. 0. 1. 0. 0. 0. 0. 0. 0. 0. 0. 0. 0. 0. 0. 0.]\n",
      " [0. 0. 0. 0. 0. 0. 0. 0. 0. 0. 0. 0. 0. 0. 0. 0. 0. 0. 0. 0. 1.]\n",
      " [0. 0. 0. 0. 1. 0. 0. 0. 0. 0. 0. 0. 0. 0. 0. 0. 0. 0. 0. 0. 0.]\n",
      " [0. 0. 0. 0. 0. 0. 0. 0. 1. 0. 0. 0. 0. 0. 0. 0. 0. 0. 0. 0. 0.]\n",
      " [0. 1. 0. 0. 0. 0. 0. 0. 0. 0. 0. 0. 0. 0. 0. 0. 0. 0. 0. 0. 0.]]\n"
     ]
    }
   ],
   "source": [
    "tensor = tf.constant([3, 17, 5, 9, 12, 7, 20, 4, 8, 1])\n",
    "depth = tf.reduce_max(tensor).numpy() + 1\n",
    "one_hot_encoded = tf.one_hot(tensor, depth=depth)\n",
    "\n",
    "print(\"One-hot encoded shape:\", one_hot_encoded.shape)\n",
    "print(\"One-hot encoded tensor:\\n\", one_hot_encoded.numpy())"
   ]
  }
 ],
 "metadata": {
  "kernelspec": {
   "display_name": "Python 3",
   "language": "python",
   "name": "python3"
  },
  "language_info": {
   "codemirror_mode": {
    "name": "ipython",
    "version": 3
   },
   "file_extension": ".py",
   "mimetype": "text/x-python",
   "name": "python",
   "nbconvert_exporter": "python",
   "pygments_lexer": "ipython3",
   "version": "3.12.10"
  }
 },
 "nbformat": 4,
 "nbformat_minor": 5
}
